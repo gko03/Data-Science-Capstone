{
 "cells": [
  {
   "cell_type": "markdown",
   "metadata": {},
   "source": [
    "<p style=\"text-align:center\">\n",
    "    <a href=\"https://skills.network\" target=\"_blank\">\n",
    "    <img src=\"https://cf-courses-data.s3.us.cloud-object-storage.appdomain.cloud/assets/logos/SN_web_lightmode.png\" width=\"200\" alt=\"Skills Network Logo\">\n",
    "    </a>\n",
    "</p>\n"
   ]
  },
  {
   "cell_type": "markdown",
   "metadata": {},
   "source": [
    "# **Space X  Falcon 9 First Stage Landing Prediction**\n"
   ]
  },
  {
   "cell_type": "markdown",
   "metadata": {},
   "source": [
    "## Web scraping Falcon 9 and Falcon Heavy Launches Records from Wikipedia\n"
   ]
  },
  {
   "cell_type": "markdown",
   "metadata": {},
   "source": [
    "Estimated time needed: **40** minutes\n"
   ]
  },
  {
   "cell_type": "markdown",
   "metadata": {},
   "source": [
    "In this lab, you will be performing web scraping to collect Falcon 9 historical launch records from a Wikipedia page titled `List of Falcon 9 and Falcon Heavy launches`\n",
    "\n",
    "https://en.wikipedia.org/wiki/List_of_Falcon_9_and_Falcon_Heavy_launches\n"
   ]
  },
  {
   "cell_type": "markdown",
   "metadata": {},
   "source": [
    "![](https://cf-courses-data.s3.us.cloud-object-storage.appdomain.cloud/IBM-DS0321EN-SkillsNetwork/labs/module_1_L2/images/Falcon9_rocket_family.svg)\n"
   ]
  },
  {
   "cell_type": "markdown",
   "metadata": {},
   "source": [
    "Falcon 9 first stage will land successfully\n"
   ]
  },
  {
   "cell_type": "markdown",
   "metadata": {},
   "source": [
    "![](https://cf-courses-data.s3.us.cloud-object-storage.appdomain.cloud/IBMDeveloperSkillsNetwork-DS0701EN-SkillsNetwork/api/Images/landing_1.gif)\n"
   ]
  },
  {
   "cell_type": "markdown",
   "metadata": {},
   "source": [
    "Several examples of an unsuccessful landing are shown here:\n"
   ]
  },
  {
   "cell_type": "markdown",
   "metadata": {},
   "source": [
    "![](https://cf-courses-data.s3.us.cloud-object-storage.appdomain.cloud/IBMDeveloperSkillsNetwork-DS0701EN-SkillsNetwork/api/Images/crash.gif)\n"
   ]
  },
  {
   "cell_type": "markdown",
   "metadata": {},
   "source": [
    "More specifically, the launch records are stored in a HTML table shown below:\n"
   ]
  },
  {
   "cell_type": "markdown",
   "metadata": {},
   "source": [
    "![](https://cf-courses-data.s3.us.cloud-object-storage.appdomain.cloud/IBM-DS0321EN-SkillsNetwork/labs/module_1_L2/images/falcon9-launches-wiki.png)\n"
   ]
  },
  {
   "cell_type": "markdown",
   "metadata": {},
   "source": [
    "  ## Objectives\n",
    "Web scrap Falcon 9 launch records with `BeautifulSoup`: \n",
    "- Extract a Falcon 9 launch records HTML table from Wikipedia\n",
    "- Parse the table and convert it into a Pandas data frame\n"
   ]
  },
  {
   "cell_type": "markdown",
   "metadata": {},
   "source": [
    "First let's import required packages for this lab\n"
   ]
  },
  {
   "cell_type": "code",
   "execution_count": 29,
   "metadata": {
    "tags": []
   },
   "outputs": [
    {
     "name": "stdout",
     "output_type": "stream",
     "text": [
      "Requirement already satisfied: beautifulsoup4 in /home/jupyterlab/conda/envs/python/lib/python3.7/site-packages (4.11.1)\n",
      "Requirement already satisfied: soupsieve>1.2 in /home/jupyterlab/conda/envs/python/lib/python3.7/site-packages (from beautifulsoup4) (2.3.2.post1)\n",
      "Requirement already satisfied: requests in /home/jupyterlab/conda/envs/python/lib/python3.7/site-packages (2.29.0)\n",
      "Requirement already satisfied: charset-normalizer<4,>=2 in /home/jupyterlab/conda/envs/python/lib/python3.7/site-packages (from requests) (3.1.0)\n",
      "Requirement already satisfied: idna<4,>=2.5 in /home/jupyterlab/conda/envs/python/lib/python3.7/site-packages (from requests) (3.4)\n",
      "Requirement already satisfied: urllib3<1.27,>=1.21.1 in /home/jupyterlab/conda/envs/python/lib/python3.7/site-packages (from requests) (1.26.15)\n",
      "Requirement already satisfied: certifi>=2017.4.17 in /home/jupyterlab/conda/envs/python/lib/python3.7/site-packages (from requests) (2023.5.7)\n"
     ]
    }
   ],
   "source": [
    "!pip3 install beautifulsoup4\n",
    "!pip3 install requests"
   ]
  },
  {
   "cell_type": "code",
   "execution_count": 30,
   "metadata": {
    "tags": []
   },
   "outputs": [],
   "source": [
    "import sys\n",
    "\n",
    "import requests\n",
    "from bs4 import BeautifulSoup\n",
    "import re\n",
    "import unicodedata\n",
    "import pandas as pd"
   ]
  },
  {
   "cell_type": "markdown",
   "metadata": {},
   "source": [
    "and we will provide some helper functions for you to process web scraped HTML table\n"
   ]
  },
  {
   "cell_type": "code",
   "execution_count": 31,
   "metadata": {
    "tags": []
   },
   "outputs": [],
   "source": [
    "def date_time(table_cells):\n",
    "    \"\"\"\n",
    "    This function returns the data and time from the HTML  table cell\n",
    "    Input: the  element of a table data cell extracts extra row\n",
    "    \"\"\"\n",
    "    return [data_time.strip() for data_time in list(table_cells.strings)][0:2]\n",
    "\n",
    "def booster_version(table_cells):\n",
    "    \"\"\"\n",
    "    This function returns the booster version from the HTML  table cell \n",
    "    Input: the  element of a table data cell extracts extra row\n",
    "    \"\"\"\n",
    "    out=''.join([booster_version for i,booster_version in enumerate( table_cells.strings) if i%2==0][0:-1])\n",
    "    return out\n",
    "\n",
    "def landing_status(table_cells):\n",
    "    \"\"\"\n",
    "    This function returns the landing status from the HTML table cell \n",
    "    Input: the  element of a table data cell extracts extra row\n",
    "    \"\"\"\n",
    "    out=[i for i in table_cells.strings][0]\n",
    "    return out\n",
    "\n",
    "\n",
    "def get_mass(table_cells):\n",
    "    mass=unicodedata.normalize(\"NFKD\", table_cells.text).strip()\n",
    "    if mass:\n",
    "        mass.find(\"kg\")\n",
    "        new_mass=mass[0:mass.find(\"kg\")+2]\n",
    "    else:\n",
    "        new_mass=0\n",
    "    return new_mass\n",
    "\n",
    "\n",
    "def extract_column_from_header(row):\n",
    "    \"\"\"\n",
    "    This function returns the landing status from the HTML table cell \n",
    "    Input: the  element of a table data cell extracts extra row\n",
    "    \"\"\"\n",
    "    if (row.br):\n",
    "        row.br.extract()\n",
    "    if row.a:\n",
    "        row.a.extract()\n",
    "    if row.sup:\n",
    "        row.sup.extract()\n",
    "        \n",
    "    colunm_name = ' '.join(row.contents)\n",
    "    \n",
    "    # Filter the digit and empty names\n",
    "    if not(colunm_name.strip().isdigit()):\n",
    "        colunm_name = colunm_name.strip()\n",
    "        return colunm_name    \n",
    "    df['landingPad'].isnull().sum()\n"
   ]
  },
  {
   "cell_type": "markdown",
   "metadata": {},
   "source": [
    "To keep the lab tasks consistent, you will be asked to scrape the data from a snapshot of the  `List of Falcon 9 and Falcon Heavy launches` Wikipage updated on\n",
    "`9th June 2021`\n"
   ]
  },
  {
   "cell_type": "code",
   "execution_count": 32,
   "metadata": {
    "tags": []
   },
   "outputs": [],
   "source": [
    "static_url = \"https://en.wikipedia.org/w/index.php?title=List_of_Falcon_9_and_Falcon_Heavy_launches&oldid=1027686922\""
   ]
  },
  {
   "cell_type": "markdown",
   "metadata": {},
   "source": [
    "Next, request the HTML page from the above URL and get a `response` object\n"
   ]
  },
  {
   "cell_type": "markdown",
   "metadata": {},
   "source": [
    "### TASK 1: Request the Falcon9 Launch Wiki page from its URL\n"
   ]
  },
  {
   "cell_type": "markdown",
   "metadata": {},
   "source": [
    "First, let's perform an HTTP GET method to request the Falcon9 Launch HTML page, as an HTTP response.\n"
   ]
  },
  {
   "cell_type": "code",
   "execution_count": 33,
   "metadata": {
    "tags": []
   },
   "outputs": [],
   "source": [
    "# use requests.get() method with the provided static_url\n",
    "# assign the response to a object\n",
    "import requests\n",
    "from bs4 import BeautifulSoup\n",
    "static_url = \"https://en.wikipedia.org/w/index.php?title=List_of_Falcon_9_and_Falcon_Heavy_launches&oldid=1027865922\"\n",
    "response = requests.get(static_url)\n"
   ]
  },
  {
   "cell_type": "markdown",
   "metadata": {},
   "source": [
    "Create a `BeautifulSoup` object from the HTML `response`\n"
   ]
  },
  {
   "cell_type": "code",
   "execution_count": 34,
   "metadata": {
    "tags": []
   },
   "outputs": [],
   "source": [
    "# Use BeautifulSoup() to create a BeautifulSoup object from a response text content\n",
    "soup = BeautifulSoup(response.text, 'html.parser')"
   ]
  },
  {
   "cell_type": "markdown",
   "metadata": {},
   "source": [
    "Print the page title to verify if the `BeautifulSoup` object was created properly \n"
   ]
  },
  {
   "cell_type": "code",
   "execution_count": 35,
   "metadata": {
    "tags": []
   },
   "outputs": [
    {
     "name": "stdout",
     "output_type": "stream",
     "text": [
      "<title>Ulla! min Ulla! Säj får jag dig bjuda - Wikipedia</title>\n"
     ]
    }
   ],
   "source": [
    "# Use soup.title attribute\n",
    "print(soup.title)"
   ]
  },
  {
   "cell_type": "markdown",
   "metadata": {},
   "source": [
    "### TASK 2: Extract all column/variable names from the HTML table header\n"
   ]
  },
  {
   "cell_type": "markdown",
   "metadata": {},
   "source": [
    "Next, we want to collect all relevant column names from the HTML table header\n"
   ]
  },
  {
   "cell_type": "markdown",
   "metadata": {},
   "source": [
    "Let's try to find all tables on the wiki page first. If you need to refresh your memory about `BeautifulSoup`, please check the external reference link towards the end of this lab\n"
   ]
  },
  {
   "cell_type": "code",
   "execution_count": 36,
   "metadata": {
    "tags": []
   },
   "outputs": [
    {
     "name": "stdout",
     "output_type": "stream",
     "text": [
      "<table class=\"nowraplinks navbox-subgroup\" style=\"border-spacing:0\"><tbody><tr><th class=\"navbox-group\" scope=\"row\" style=\"width:1%\"><i><a href=\"/wiki/Fredmans_epistlar\" title=\"Fredmans epistlar\">Fredmans epistlar</a></i><br/>(<a href=\"/wiki/List_of_Fredman%27s_Epistles\" title=\"List of Fredman's Epistles\">List</a>)</th><td class=\"navbox-list-with-group navbox-list navbox-odd\" style=\"width:100%;padding:0\"><div style=\"padding:0 0.25em\">\n",
      "<ul><li>2: <a href=\"/wiki/N%C3%A5_skruva_Fiolen\" title=\"Nå skruva Fiolen\">Nå skruva Fiolen</a></li>\n",
      "<li>3: <a href=\"/wiki/Fader_Berg_i_hornet_st%C3%B6ter\" title=\"Fader Berg i hornet stöter\">Fader Berg i hornet stöter</a></li>\n",
      "<li>5: <a href=\"/wiki/K%C3%A4re_br%C3%B6der,_s%C3%A5_l%C3%A5tom_oss_supa_i_frid\" title=\"Käre bröder, så låtom oss supa i frid\">Käre bröder, så låtom oss supa i frid</a></li>\n",
      "<li>7: <a href=\"/wiki/Fram_med_basfiolen,_kn%C3%A4pp_och_skruva\" title=\"Fram med basfiolen, knäpp och skruva\">Fram med basfiolen, knäpp och skruva</a></li>\n",
      "<li>9: <a href=\"/wiki/K%C3%A4raste_Br%C3%B6der_Systrar_och_V%C3%A4nner\" title=\"Käraste Bröder Systrar och Vänner\">Käraste Bröder Systrar och Vänner</a></li>\n",
      "<li>12: <a href=\"/wiki/Gr%C3%A5t_Fader_Berg_och_spela\" title=\"Gråt Fader Berg och spela\">Gråt Fader Berg och spela</a></li>\n",
      "<li>23: <a href=\"/wiki/Ack_du_min_moder\" title=\"Ack du min moder\">Ack du min moder</a></li>\n",
      "<li>24: <a href=\"/wiki/K%C3%A4ra_syster\" title=\"Kära syster\">Kära syster</a></li>\n",
      "<li>25: <a href=\"/wiki/Bl%C3%A5sen_nu_alla\" title=\"Blåsen nu alla\">Blåsen nu alla</a></li>\n",
      "<li>28: <a href=\"/wiki/I_g%C3%A5r_s%C3%A5g_jag_ditt_barn,_min_Fr%C3%B6ja\" title=\"I går såg jag ditt barn, min Fröja\">I går såg jag ditt barn, min Fröja</a></li>\n",
      "<li>33: <a href=\"/wiki/Stolta_Stad!\" title=\"Stolta Stad!\">Stolta Stad!</a></li>\n",
      "<li>35: <a href=\"/wiki/Br%C3%B6derna_fara_v%C3%A4l_vilse_ibland\" title=\"Bröderna fara väl vilse ibland\">Bröderna fara väl vilse ibland</a></li>\n",
      "<li>36: <a href=\"/wiki/V%C3%A5r_Ulla_l%C3%A5g_i_s%C3%A4ngen_och_sov\" title=\"Vår Ulla låg i sängen och sov\">Vår Ulla låg i sängen och sov</a></li>\n",
      "<li>40: <a href=\"/wiki/Ge_rum_i_Br%C3%B6llopsg%C3%A5ln_din_hund!\" title=\"Ge rum i Bröllopsgåln din hund!\">Ge rum i Bröllopsgåln din hund!</a></li>\n",
      "<li>43: <a href=\"/wiki/V%C3%A4rm_mer_%C3%96l_och_Br%C3%B6d\" title=\"Värm mer Öl och Bröd\">Värm mer Öl och Bröd</a></li>\n",
      "<li>45: <a href=\"/wiki/Tjenare_Mollberg,_hur_%C3%A4r_det_fatt%3F\" title=\"Tjenare Mollberg, hur är det fatt?\">Tjenare Mollberg, hur är det fatt?</a></li>\n",
      "<li>48: <a href=\"/wiki/Solen_glimmar_blank_och_trind\" title=\"Solen glimmar blank och trind\">Solen glimmar blank och trind</a></li>\n",
      "<li>51: <a href=\"/wiki/Movitz_bl%C3%A5ste_en_konsert\" title=\"Movitz blåste en konsert\">Movitz blåste en konsert</a></li>\n",
      "<li>63: <a href=\"/wiki/Fader_Bergstr%C3%B6m\" title=\"Fader Bergström\">Fader Bergström</a></li>\n",
      "<li>71: <a class=\"mw-selflink selflink\">Ulla! min Ulla! Säj får jag dig bjuda</a></li>\n",
      "<li>72: <a href=\"/wiki/Glimmande_nymf\" title=\"Glimmande nymf\">Glimmande nymf</a></li>\n",
      "<li>79: <a href=\"/wiki/Charon_i_Luren_tutar\" title=\"Charon i Luren tutar\">Charon i Luren tutar</a></li>\n",
      "<li>80: <a href=\"/wiki/Liksom_en_Herdinna,_h%C3%B6gtids_kl%C3%A4dd\" title=\"Liksom en Herdinna, högtids klädd\">Liksom en herdinna</a></li>\n",
      "<li>81: <a href=\"/wiki/M%C3%A4rk_hur_v%C3%A5r_skugga\" title=\"Märk hur vår skugga\">Märk hur vår skugga</a></li>\n",
      "<li>82: <a href=\"/wiki/Hvila_vid_denna_k%C3%A4lla\" title=\"Hvila vid denna källa\">Hvila vid denna källa</a></li></ul>\n",
      "</div></td></tr><tr><th class=\"navbox-group\" scope=\"row\" style=\"width:1%\"><i><a href=\"/wiki/Fredmans_s%C3%A5nger\" title=\"Fredmans sånger\">Fredmans sånger</a></i></th><td class=\"navbox-list-with-group navbox-list navbox-even\" style=\"width:100%;padding:0\"><div style=\"padding:0 0.25em\">\n",
      "<ul><li>6: <a href=\"/wiki/H%C3%B6r_klockorna_med_%C3%A4ngsligt_d%C3%A5n\" title=\"Hör klockorna med ängsligt dån\">Hör klockorna med ängsligt dån</a></li>\n",
      "<li>21: <a href=\"/wiki/S%C3%A5_lunka_vi_s%C3%A5_sm%C3%A5ningom\" title=\"Så lunka vi så småningom\">Så lunka vi så småningom</a></li>\n",
      "<li>31: <a href=\"/wiki/Opp_Amaryllis!\" title=\"Opp Amaryllis!\">Opp Amaryllis!</a></li>\n",
      "<li>32: <a class=\"mw-redirect\" href=\"/wiki/Tr%C3%A4d_fram_du_Nattens_Gud\" title=\"Träd fram du Nattens Gud\">Träd fram du Nattens Gud (Aftonkväde)</a></li>\n",
      "<li>35: <a href=\"/wiki/Gubben_Noak\" title=\"Gubben Noak\">Gubben Noak</a></li>\n",
      "<li>64: <a href=\"/wiki/Fj%C3%A4riln_vingad_syns_p%C3%A5_Haga\" title=\"Fjäriln vingad syns på Haga\">Fjäriln vingad syns på Haga</a></li></ul>\n",
      "</div></td></tr><tr><th class=\"navbox-group\" scope=\"row\" style=\"width:1%\">Other</th><td class=\"navbox-list-with-group navbox-list navbox-odd\" style=\"width:100%;padding:0\"><div style=\"padding:0 0.25em\">\n",
      "<ul><li><i><a href=\"/wiki/Bacchi_Tempel\" title=\"Bacchi Tempel\">Bacchi Tempel</a></i></li></ul>\n",
      "</div></td></tr></tbody></table>\n"
     ]
    }
   ],
   "source": [
    "# Use the find_all function in the BeautifulSoup object, with element type `table`\n",
    "# Assign the result to a list called `html_tables`\n",
    "html_tables = soup.find_all(\"table\")\n",
    "first_launch_table = html_tables[2]   # είναι ο πίνακας με τις εκτοξεύσεις\n",
    "print(first_launch_table)\n",
    "\n"
   ]
  },
  {
   "cell_type": "markdown",
   "metadata": {},
   "source": [
    "Starting from the third table is our target table contains the actual launch records.\n"
   ]
  },
  {
   "cell_type": "code",
   "execution_count": 42,
   "metadata": {
    "tags": []
   },
   "outputs": [
    {
     "name": "stdout",
     "output_type": "stream",
     "text": [
      "<table class=\"nowraplinks navbox-subgroup\" style=\"border-spacing:0\"><tbody><tr><th class=\"navbox-group\" scope=\"row\" style=\"width:1%\"><i><a href=\"/wiki/Fredmans_epistlar\" title=\"Fredmans epistlar\">Fredmans epistlar</a></i><br/>(<a href=\"/wiki/List_of_Fredman%27s_Epistles\" title=\"List of Fredman's Epistles\">List</a>)</th><td class=\"navbox-list-with-group navbox-list navbox-odd\" style=\"width:100%;padding:0\"><div style=\"padding:0 0.25em\">\n",
      "<ul><li>2: <a href=\"/wiki/N%C3%A5_skruva_Fiolen\" title=\"Nå skruva Fiolen\">Nå skruva Fiolen</a></li>\n",
      "<li>3: <a href=\"/wiki/Fader_Berg_i_hornet_st%C3%B6ter\" title=\"Fader Berg i hornet stöter\">Fader Berg i hornet stöter</a></li>\n",
      "<li>5: <a href=\"/wiki/K%C3%A4re_br%C3%B6der,_s%C3%A5_l%C3%A5tom_oss_supa_i_frid\" title=\"Käre bröder, så låtom oss supa i frid\">Käre bröder, så låtom oss supa i frid</a></li>\n",
      "<li>7: <a href=\"/wiki/Fram_med_basfiolen,_kn%C3%A4pp_och_skruva\" title=\"Fram med basfiolen, knäpp och skruva\">Fram med basfiolen, knäpp och skruva</a></li>\n",
      "<li>9: <a href=\"/wiki/K%C3%A4raste_Br%C3%B6der_Systrar_och_V%C3%A4nner\" title=\"Käraste Bröder Systrar och Vänner\">Käraste Bröder Systrar och Vänner</a></li>\n",
      "<li>12: <a href=\"/wiki/Gr%C3%A5t_Fader_Berg_och_spela\" title=\"Gråt Fader Berg och spela\">Gråt Fader Berg och spela</a></li>\n",
      "<li>23: <a href=\"/wiki/Ack_du_min_moder\" title=\"Ack du min moder\">Ack du min moder</a></li>\n",
      "<li>24: <a href=\"/wiki/K%C3%A4ra_syster\" title=\"Kära syster\">Kära syster</a></li>\n",
      "<li>25: <a href=\"/wiki/Bl%C3%A5sen_nu_alla\" title=\"Blåsen nu alla\">Blåsen nu alla</a></li>\n",
      "<li>28: <a href=\"/wiki/I_g%C3%A5r_s%C3%A5g_jag_ditt_barn,_min_Fr%C3%B6ja\" title=\"I går såg jag ditt barn, min Fröja\">I går såg jag ditt barn, min Fröja</a></li>\n",
      "<li>33: <a href=\"/wiki/Stolta_Stad!\" title=\"Stolta Stad!\">Stolta Stad!</a></li>\n",
      "<li>35: <a href=\"/wiki/Br%C3%B6derna_fara_v%C3%A4l_vilse_ibland\" title=\"Bröderna fara väl vilse ibland\">Bröderna fara väl vilse ibland</a></li>\n",
      "<li>36: <a href=\"/wiki/V%C3%A5r_Ulla_l%C3%A5g_i_s%C3%A4ngen_och_sov\" title=\"Vår Ulla låg i sängen och sov\">Vår Ulla låg i sängen och sov</a></li>\n",
      "<li>40: <a href=\"/wiki/Ge_rum_i_Br%C3%B6llopsg%C3%A5ln_din_hund!\" title=\"Ge rum i Bröllopsgåln din hund!\">Ge rum i Bröllopsgåln din hund!</a></li>\n",
      "<li>43: <a href=\"/wiki/V%C3%A4rm_mer_%C3%96l_och_Br%C3%B6d\" title=\"Värm mer Öl och Bröd\">Värm mer Öl och Bröd</a></li>\n",
      "<li>45: <a href=\"/wiki/Tjenare_Mollberg,_hur_%C3%A4r_det_fatt%3F\" title=\"Tjenare Mollberg, hur är det fatt?\">Tjenare Mollberg, hur är det fatt?</a></li>\n",
      "<li>48: <a href=\"/wiki/Solen_glimmar_blank_och_trind\" title=\"Solen glimmar blank och trind\">Solen glimmar blank och trind</a></li>\n",
      "<li>51: <a href=\"/wiki/Movitz_bl%C3%A5ste_en_konsert\" title=\"Movitz blåste en konsert\">Movitz blåste en konsert</a></li>\n",
      "<li>63: <a href=\"/wiki/Fader_Bergstr%C3%B6m\" title=\"Fader Bergström\">Fader Bergström</a></li>\n",
      "<li>71: <a class=\"mw-selflink selflink\">Ulla! min Ulla! Säj får jag dig bjuda</a></li>\n",
      "<li>72: <a href=\"/wiki/Glimmande_nymf\" title=\"Glimmande nymf\">Glimmande nymf</a></li>\n",
      "<li>79: <a href=\"/wiki/Charon_i_Luren_tutar\" title=\"Charon i Luren tutar\">Charon i Luren tutar</a></li>\n",
      "<li>80: <a href=\"/wiki/Liksom_en_Herdinna,_h%C3%B6gtids_kl%C3%A4dd\" title=\"Liksom en Herdinna, högtids klädd\">Liksom en herdinna</a></li>\n",
      "<li>81: <a href=\"/wiki/M%C3%A4rk_hur_v%C3%A5r_skugga\" title=\"Märk hur vår skugga\">Märk hur vår skugga</a></li>\n",
      "<li>82: <a href=\"/wiki/Hvila_vid_denna_k%C3%A4lla\" title=\"Hvila vid denna källa\">Hvila vid denna källa</a></li></ul>\n",
      "</div></td></tr><tr><th class=\"navbox-group\" scope=\"row\" style=\"width:1%\"><i><a href=\"/wiki/Fredmans_s%C3%A5nger\" title=\"Fredmans sånger\">Fredmans sånger</a></i></th><td class=\"navbox-list-with-group navbox-list navbox-even\" style=\"width:100%;padding:0\"><div style=\"padding:0 0.25em\">\n",
      "<ul><li>6: <a href=\"/wiki/H%C3%B6r_klockorna_med_%C3%A4ngsligt_d%C3%A5n\" title=\"Hör klockorna med ängsligt dån\">Hör klockorna med ängsligt dån</a></li>\n",
      "<li>21: <a href=\"/wiki/S%C3%A5_lunka_vi_s%C3%A5_sm%C3%A5ningom\" title=\"Så lunka vi så småningom\">Så lunka vi så småningom</a></li>\n",
      "<li>31: <a href=\"/wiki/Opp_Amaryllis!\" title=\"Opp Amaryllis!\">Opp Amaryllis!</a></li>\n",
      "<li>32: <a class=\"mw-redirect\" href=\"/wiki/Tr%C3%A4d_fram_du_Nattens_Gud\" title=\"Träd fram du Nattens Gud\">Träd fram du Nattens Gud (Aftonkväde)</a></li>\n",
      "<li>35: <a href=\"/wiki/Gubben_Noak\" title=\"Gubben Noak\">Gubben Noak</a></li>\n",
      "<li>64: <a href=\"/wiki/Fj%C3%A4riln_vingad_syns_p%C3%A5_Haga\" title=\"Fjäriln vingad syns på Haga\">Fjäriln vingad syns på Haga</a></li></ul>\n",
      "</div></td></tr><tr><th class=\"navbox-group\" scope=\"row\" style=\"width:1%\">Other</th><td class=\"navbox-list-with-group navbox-list navbox-odd\" style=\"width:100%;padding:0\"><div style=\"padding:0 0.25em\">\n",
      "<ul><li><i><a href=\"/wiki/Bacchi_Tempel\" title=\"Bacchi Tempel\">Bacchi Tempel</a></i></li></ul>\n",
      "</div></td></tr></tbody></table>\n"
     ]
    }
   ],
   "source": [
    "# Let's print the third table and check its content\n",
    "first_launch_table = html_tables[2]\n",
    "print(first_launch_table)"
   ]
  },
  {
   "cell_type": "markdown",
   "metadata": {},
   "source": [
    "You should able to see the columns names embedded in the table header elements `<th>` as follows:\n"
   ]
  },
  {
   "cell_type": "markdown",
   "metadata": {},
   "source": [
    "```\n",
    "<tr>\n",
    "<th scope=\"col\">Flight No.\n",
    "</th>\n",
    "<th scope=\"col\">Date and<br/>time (<a href=\"/wiki/Coordinated_Universal_Time\" title=\"Coordinated Universal Time\">UTC</a>)\n",
    "</th>\n",
    "<th scope=\"col\"><a href=\"/wiki/List_of_Falcon_9_first-stage_boosters\" title=\"List of Falcon 9 first-stage boosters\">Version,<br/>Booster</a> <sup class=\"reference\" id=\"cite_ref-booster_11-0\"><a href=\"#cite_note-booster-11\">[b]</a></sup>\n",
    "</th>\n",
    "<th scope=\"col\">Launch site\n",
    "</th>\n",
    "<th scope=\"col\">Payload<sup class=\"reference\" id=\"cite_ref-Dragon_12-0\"><a href=\"#cite_note-Dragon-12\">[c]</a></sup>\n",
    "</th>\n",
    "<th scope=\"col\">Payload mass\n",
    "</th>\n",
    "<th scope=\"col\">Orbit\n",
    "</th>\n",
    "<th scope=\"col\">Customer\n",
    "</th>\n",
    "<th scope=\"col\">Launch<br/>outcome\n",
    "</th>\n",
    "<th scope=\"col\"><a href=\"/wiki/Falcon_9_first-stage_landing_tests\" title=\"Falcon 9 first-stage landing tests\">Booster<br/>landing</a>\n",
    "</th></tr>\n",
    "```\n"
   ]
  },
  {
   "cell_type": "markdown",
   "metadata": {},
   "source": [
    "Next, we just need to iterate through the `<th>` elements and apply the provided `extract_column_from_header()` to extract column name one by one\n"
   ]
  },
  {
   "cell_type": "code",
   "execution_count": 53,
   "metadata": {
    "tags": []
   },
   "outputs": [
    {
     "name": "stdout",
     "output_type": "stream",
     "text": [
      "Table 0 headers: ['Carl Michael Bellman 1790', 'Charles Wharton Stork 1917', 'Hendrik Willem van Loon 1939', 'Paul Britten Austin 1990']\n",
      "Table 1 headers: ['vteCarl Michael Bellman', 'Works', 'Fredmans epistlar(List)', 'Fredmans sånger', 'Other', 'Characters', 'Interpreters,Albums', 'Scholars,Translators', 'Other']\n",
      "Table 2 headers: ['Fredmans epistlar(List)', 'Fredmans sånger', 'Other']\n"
     ]
    }
   ],
   "source": [
    "column_names = []\n",
    "\n",
    "# Apply find_all() function with `th` element on first_launch_table\n",
    "# Iterate each th element and apply the provided extract_column_from_header() to get a column name\n",
    "# Append the Non-empty column name (`if name is not None and len(name) > 0`) into a list called column_names\n",
    "ths = first_launch_table.find_all(\"th\")\n",
    "from bs4 import NavigableString\n",
    "\n",
    "def extract_column_from_header(th):\n",
    "    texts = [str(t).strip() for t in th.contents if isinstance(t, NavigableString)]\n",
    "    column_name = ' '.join(texts).strip()\n",
    "    return column_name\n",
    "for i, table in enumerate(html_tables):\n",
    "    headers = table.find_all('th')\n",
    "    header_names = [th.text.strip() for th in headers]\n",
    "    print(f\"Table {i} headers: {header_names}\")\n"
   ]
  },
  {
   "cell_type": "markdown",
   "metadata": {},
   "source": [
    "Check the extracted column names\n"
   ]
  },
  {
   "cell_type": "code",
   "execution_count": 54,
   "metadata": {
    "tags": []
   },
   "outputs": [
    {
     "name": "stdout",
     "output_type": "stream",
     "text": [
      "[]\n"
     ]
    }
   ],
   "source": [
    "print(column_names)"
   ]
  },
  {
   "cell_type": "markdown",
   "metadata": {},
   "source": [
    "## TASK 3: Create a data frame by parsing the launch HTML tables\n"
   ]
  },
  {
   "cell_type": "markdown",
   "metadata": {},
   "source": [
    "We will create an empty dictionary with keys from the extracted column names in the previous task. Later, this dictionary will be converted into a Pandas dataframe\n"
   ]
  },
  {
   "cell_type": "code",
   "execution_count": 56,
   "metadata": {
    "tags": []
   },
   "outputs": [],
   "source": [
    "launch_dict= dict.fromkeys(column_names)\n",
    "# Let's initial the launch_dict with each value to be an empty list\n",
    "launch_dict['Flight No.'] = []\n",
    "launch_dict['Launch site'] = []\n",
    "launch_dict['Payload'] = []\n",
    "launch_dict['Payload mass'] = []\n",
    "launch_dict['Orbit'] = []\n",
    "launch_dict['Customer'] = []\n",
    "launch_dict['Launch outcome'] = []\n",
    "# Added some new columns\n",
    "launch_dict['Version Booster']=[]\n",
    "launch_dict['Booster landing']=[]\n",
    "launch_dict['Date']=[]\n",
    "launch_dict['Time']=[]"
   ]
  },
  {
   "cell_type": "markdown",
   "metadata": {},
   "source": [
    "Next, we just need to fill up the `launch_dict` with launch records extracted from table rows.\n"
   ]
  },
  {
   "cell_type": "markdown",
   "metadata": {},
   "source": [
    "Usually, HTML tables in Wiki pages are likely to contain unexpected annotations and other types of noises, such as reference links `B0004.1[8]`, missing values `N/A [e]`, inconsistent formatting, etc.\n"
   ]
  },
  {
   "cell_type": "markdown",
   "metadata": {},
   "source": [
    "To simplify the parsing process, we have provided an incomplete code snippet below to help you to fill up the `launch_dict`. Please complete the following code snippet with TODOs or you can choose to write your own logic to parse all launch tables:\n"
   ]
  },
  {
   "cell_type": "code",
   "execution_count": 59,
   "metadata": {},
   "outputs": [],
   "source": [
    "extracted_row = 0\n",
    "#Extract each table \n",
    "for table_number,table in enumerate(soup.find_all('table',\"wikitable plainrowheaders collapsible\")):\n",
    "   # get table row \n",
    "    for rows in table.find_all(\"tr\"):\n",
    "        #check to see if first table heading is as number corresponding to launch a number \n",
    "        if rows.th:\n",
    "            if rows.th.string:\n",
    "                flight_number=rows.th.string.strip()\n",
    "                flag=flight_number.isdigit()\n",
    "        else:\n",
    "            flag=False\n",
    "        #get table element \n",
    "        row=rows.find_all('td')\n",
    "        #if it is number save cells in a dictonary \n",
    "        if flag:\n",
    "            extracted_row += 1\n",
    "            # Flight Number value\n",
    "            # TODO: Append the flight_number into launch_dict with key `Flight No.`\n",
    "            #print(flight_number)\n",
    "            datatimelist=date_time(row[0])\n",
    "            \n",
    "            # Date value\n",
    "            # TODO: Append the date into launch_dict with key `Date`\n",
    "            date = datatimelist[0].strip(',')\n",
    "            #print(date)\n",
    "            \n",
    "            # Time value\n",
    "            # TODO: Append the time into launch_dict with key `Time`\n",
    "            time = datatimelist[1]\n",
    "            #print(time)\n",
    "              \n",
    "            # Booster version\n",
    "            # TODO: Append the bv into launch_dict with key `Version Booster`\n",
    "            bv=booster_version(row[1])\n",
    "            if not(bv):\n",
    "                bv=row[1].a.string\n",
    "            print(bv)\n",
    "            \n",
    "            # Launch Site\n",
    "            # TODO: Append the bv into launch_dict with key `Launch Site`\n",
    "            launch_site = row[2].a.string\n",
    "            #print(launch_site)\n",
    "            \n",
    "            # Payload\n",
    "            # TODO: Append the payload into launch_dict with key `Payload`\n",
    "            payload = row[3].a.string\n",
    "            #print(payload)\n",
    "            \n",
    "            # Payload Mass\n",
    "            # TODO: Append the payload_mass into launch_dict with key `Payload mass`\n",
    "            payload_mass = get_mass(row[4])\n",
    "            #print(payload)\n",
    "            \n",
    "            # Orbit\n",
    "            # TODO: Append the orbit into launch_dict with key `Orbit`\n",
    "            orbit = row[5].a.string\n",
    "            #print(orbit)\n",
    "            \n",
    "            # Customer\n",
    "            # TODO: Append the customer into launch_dict with key `Customer`\n",
    "            customer = row[6].a.string\n",
    "            #print(customer)\n",
    "            \n",
    "            # Launch outcome\n",
    "            # TODO: Append the launch_outcome into launch_dict with key `Launch outcome`\n",
    "            launch_outcome = list(row[7].strings)[0]\n",
    "            #print(launch_outcome)\n",
    "            \n",
    "            # Booster landing\n",
    "            # TODO: Append the launch_outcome into launch_dict with key `Booster landing`\n",
    "            booster_landing = landing_status(row[8])\n",
    "            #print(booster_landing)\n",
    "            "
   ]
  },
  {
   "cell_type": "markdown",
   "metadata": {},
   "source": [
    "After you have fill in the parsed launch record values into `launch_dict`, you can create a dataframe from it.\n"
   ]
  },
  {
   "cell_type": "code",
   "execution_count": 60,
   "metadata": {},
   "outputs": [
    {
     "name": "stderr",
     "output_type": "stream",
     "text": [
      "/home/jupyterlab/conda/envs/python/lib/python3.7/site-packages/ipykernel_launcher.py:1: DeprecationWarning: The default dtype for empty Series will be 'object' instead of 'float64' in a future version. Specify a dtype explicitly to silence this warning.\n",
      "  \"\"\"Entry point for launching an IPython kernel.\n"
     ]
    }
   ],
   "source": [
    "df= pd.DataFrame({ key:pd.Series(value) for key, value in launch_dict.items() })"
   ]
  },
  {
   "cell_type": "markdown",
   "metadata": {},
   "source": [
    "We can now export it to a <b>CSV</b> for the next section, but to make the answers consistent and in case you have difficulties finishing this lab. \n",
    "\n",
    "Following labs will be using a provided dataset to make each lab independent. \n"
   ]
  },
  {
   "cell_type": "markdown",
   "metadata": {},
   "source": [
    "<code>df.to_csv('spacex_web_scraped.csv', index=False)</code>\n"
   ]
  },
  {
   "cell_type": "markdown",
   "metadata": {},
   "source": [
    "## Authors\n"
   ]
  },
  {
   "cell_type": "markdown",
   "metadata": {},
   "source": [
    "<a href=\"https://www.linkedin.com/in/yan-luo-96288783/\">Yan Luo</a>\n"
   ]
  },
  {
   "cell_type": "markdown",
   "metadata": {},
   "source": [
    "<a href=\"https://www.linkedin.com/in/nayefaboutayoun/\">Nayef Abou Tayoun</a>\n"
   ]
  },
  {
   "cell_type": "markdown",
   "metadata": {},
   "source": [
    "<!--\n",
    "## Change Log\n",
    "-->\n"
   ]
  },
  {
   "cell_type": "markdown",
   "metadata": {},
   "source": [
    "<!--\n",
    "| Date (YYYY-MM-DD) | Version | Changed By | Change Description      |\n",
    "| ----------------- | ------- | ---------- | ----------------------- |\n",
    "| 2021-06-09        | 1.0     | Yan Luo    | Tasks updates           |\n",
    "| 2020-11-10        | 1.0     | Nayef      | Created the initial version |\n",
    "-->\n"
   ]
  },
  {
   "cell_type": "markdown",
   "metadata": {},
   "source": [
    "Copyright © 2021 IBM Corporation. All rights reserved.\n"
   ]
  }
 ],
 "metadata": {
  "kernelspec": {
   "display_name": "Python",
   "language": "python",
   "name": "conda-env-python-py"
  },
  "language_info": {
   "codemirror_mode": {
    "name": "ipython",
    "version": 3
   },
   "file_extension": ".py",
   "mimetype": "text/x-python",
   "name": "python",
   "nbconvert_exporter": "python",
   "pygments_lexer": "ipython3",
   "version": "3.7.12"
  },
  "prev_pub_hash": "64f1b0aac408997185c47caba18730e0028b75e7934a0e5bf0ae73c5cb7ba677"
 },
 "nbformat": 4,
 "nbformat_minor": 4
}
